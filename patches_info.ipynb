{
 "cells": [
  {
   "cell_type": "code",
   "execution_count": 1,
   "metadata": {},
   "outputs": [],
   "source": [
    "import h5py"
   ]
  },
  {
   "cell_type": "code",
   "execution_count": 2,
   "metadata": {},
   "outputs": [],
   "source": [
    "f = h5py.File('patches_dir_colon/patches/img1.h5', 'r')"
   ]
  },
  {
   "cell_type": "code",
   "execution_count": 3,
   "metadata": {},
   "outputs": [
    {
     "data": {
      "text/plain": [
       "<KeysViewHDF5 ['coords', 'imgs']>"
      ]
     },
     "execution_count": 3,
     "metadata": {},
     "output_type": "execute_result"
    }
   ],
   "source": [
    "f.keys()"
   ]
  },
  {
   "cell_type": "code",
   "execution_count": 5,
   "metadata": {},
   "outputs": [],
   "source": [
    "img = f['imgs']"
   ]
  },
  {
   "cell_type": "code",
   "execution_count": 8,
   "metadata": {},
   "outputs": [
    {
     "data": {
      "text/plain": [
       "<HDF5 dataset \"imgs\": shape (7, 27, 27, 3), type \"|u1\">"
      ]
     },
     "execution_count": 8,
     "metadata": {},
     "output_type": "execute_result"
    }
   ],
   "source": [
    "img"
   ]
  },
  {
   "cell_type": "code",
   "execution_count": 9,
   "metadata": {},
   "outputs": [],
   "source": [
    "coords = f['coords']"
   ]
  },
  {
   "cell_type": "code",
   "execution_count": 11,
   "metadata": {},
   "outputs": [
    {
     "data": {
      "text/plain": [
       "(7, 2)"
      ]
     },
     "execution_count": 11,
     "metadata": {},
     "output_type": "execute_result"
    }
   ],
   "source": [
    "coords.shape"
   ]
  },
  {
   "cell_type": "code",
   "execution_count": 17,
   "metadata": {},
   "outputs": [
    {
     "name": "stderr",
     "output_type": "stream",
     "text": [
      "/usr/local/lib/python3.6/dist-packages/ipykernel_launcher.py:1: H5pyDeprecationWarning: dataset.value has been deprecated. Use dataset[()] instead.\n",
      "  \"\"\"Entry point for launching an IPython kernel.\n"
     ]
    },
    {
     "data": {
      "text/plain": [
       "array([[[244, 243, 244],\n",
       "        [247, 246, 247],\n",
       "        [243, 241, 242],\n",
       "        ...,\n",
       "        [226, 192, 221],\n",
       "        [233, 202, 227],\n",
       "        [235, 209, 230]],\n",
       "\n",
       "       [[245, 244, 245],\n",
       "        [246, 245, 247],\n",
       "        [242, 240, 242],\n",
       "        ...,\n",
       "        [224, 189, 219],\n",
       "        [232, 201, 227],\n",
       "        [240, 214, 235]],\n",
       "\n",
       "       [[246, 245, 247],\n",
       "        [246, 244, 246],\n",
       "        [241, 239, 242],\n",
       "        ...,\n",
       "        [223, 187, 218],\n",
       "        [233, 201, 228],\n",
       "        [245, 219, 240]],\n",
       "\n",
       "       ...,\n",
       "\n",
       "       [[220, 189, 220],\n",
       "        [218, 184, 215],\n",
       "        [220, 184, 214],\n",
       "        ...,\n",
       "        [253, 237, 249],\n",
       "        [252, 242, 249],\n",
       "        [248, 244, 247]],\n",
       "\n",
       "       [[225, 193, 224],\n",
       "        [221, 186, 216],\n",
       "        [222, 186, 215],\n",
       "        ...,\n",
       "        [251, 236, 248],\n",
       "        [253, 243, 251],\n",
       "        [249, 244, 248]],\n",
       "\n",
       "       [[235, 202, 232],\n",
       "        [236, 201, 231],\n",
       "        [234, 196, 225],\n",
       "        ...,\n",
       "        [248, 234, 246],\n",
       "        [254, 245, 253],\n",
       "        [249, 245, 249]]], dtype=uint8)"
      ]
     },
     "execution_count": 17,
     "metadata": {},
     "output_type": "execute_result"
    }
   ],
   "source": [
    "img.value[0]"
   ]
  },
  {
   "cell_type": "code",
   "execution_count": 14,
   "metadata": {},
   "outputs": [
    {
     "name": "stderr",
     "output_type": "stream",
     "text": [
      "/usr/local/lib/python3.6/dist-packages/ipykernel_launcher.py:1: H5pyDeprecationWarning: dataset.value has been deprecated. Use dataset[()] instead.\n",
      "  \"\"\"Entry point for launching an IPython kernel.\n"
     ]
    },
    {
     "data": {
      "text/plain": [
       "array([[457, 396],\n",
       "       [ 98, 364],\n",
       "       [  0, 227],\n",
       "       [199, 222],\n",
       "       [373, 137],\n",
       "       [  0,   0],\n",
       "       [256,   0]], dtype=int32)"
      ]
     },
     "execution_count": 14,
     "metadata": {},
     "output_type": "execute_result"
    }
   ],
   "source": [
    "coords.value"
   ]
  }
 ],
 "metadata": {
  "kernelspec": {
   "display_name": "Python 3",
   "language": "python",
   "name": "python3"
  },
  "language_info": {
   "codemirror_mode": {
    "name": "ipython",
    "version": 3
   },
   "file_extension": ".py",
   "mimetype": "text/x-python",
   "name": "python",
   "nbconvert_exporter": "python",
   "pygments_lexer": "ipython3",
   "version": "3.6.9"
  }
 },
 "nbformat": 4,
 "nbformat_minor": 2
}
